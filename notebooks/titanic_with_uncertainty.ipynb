{
 "cells": [
  {
   "cell_type": "markdown",
   "metadata": {},
   "source": [
    "# Explaining RandomForestRegressor Trained on Titanic dataset Using UClassificationExplainer.\n",
    "\n",
    "This is simple example of how to explain predictions for titanic dataset"
   ]
  },
  {
   "cell_type": "code",
   "execution_count": 12,
   "metadata": {},
   "outputs": [],
   "source": [
    "import numpy as np\n",
    "import pandas as pd\n",
    "\n",
    "from ibreakdown import UClassificationExplainer\n",
    "from sklearn.compose import make_column_transformer\n",
    "from sklearn.ensemble import RandomForestClassifier\n",
    "from sklearn.impute import SimpleImputer\n",
    "from sklearn.model_selection import GridSearchCV\n",
    "from sklearn.model_selection import train_test_split\n",
    "from sklearn.pipeline import make_pipeline\n",
    "from sklearn.preprocessing import StandardScaler, OneHotEncoder\n",
    "np.set_printoptions(suppress=True)"
   ]
  },
  {
   "cell_type": "code",
   "execution_count": 13,
   "metadata": {},
   "outputs": [],
   "source": [
    "def read_dataset(columns, seed=None):\n",
    "    url = (\n",
    "        'https://web.stanford.edu/class/archive/'\n",
    "        'cs/cs109/cs109.1166/stuff/titanic.csv'\n",
    "    )\n",
    "    df = pd.read_csv(url)\n",
    "    y = df['Survived']\n",
    "    X = df[columns]\n",
    "\n",
    "    X_train, X_test, y_train, y_test = train_test_split(\n",
    "        X, y, test_size=0.2, random_state=seed\n",
    "    )\n",
    "    return X_train, X_test, y_train, y_test"
   ]
  },
  {
   "cell_type": "code",
   "execution_count": 14,
   "metadata": {},
   "outputs": [],
   "source": [
    "def build_model(num_features, cat_features, seed=None):\n",
    "    preprocess = make_column_transformer(\n",
    "        (make_pipeline(SimpleImputer(), StandardScaler()), num_features),\n",
    "        (OneHotEncoder(categories='auto'), cat_features),\n",
    "    )\n",
    "    model = make_pipeline(\n",
    "        preprocess, RandomForestClassifier(random_state=seed)\n",
    "    )\n",
    "    return model"
   ]
  },
  {
   "cell_type": "code",
   "execution_count": 15,
   "metadata": {},
   "outputs": [],
   "source": [
    "seed = 42\n",
    "columns = [\n",
    "    'Age',  # num\n",
    "    'Fare',  # num\n",
    "    'Siblings/Spouses Aboard',  # num\n",
    "    'Parents/Children Aboard',  # num\n",
    "    'Pclass',  # cat\n",
    "    'Sex',  # cat\n",
    "]\n",
    "X_train, X_test, y_train, y_test = read_dataset(columns, seed)"
   ]
  },
  {
   "cell_type": "code",
   "execution_count": 16,
   "metadata": {},
   "outputs": [],
   "source": [
    "rf = build_model([0, 1, 2, 3], [4, 5], seed=seed)\n",
    "param_grid = {\n",
    "    'columntransformer__pipeline__simpleimputer__strategy': ['mean'],\n",
    "    'randomforestclassifier__min_samples_leaf': [5],\n",
    "    'randomforestclassifier__min_samples_split': [12],\n",
    "    'randomforestclassifier__n_estimators': [100],\n",
    "}\n",
    "\n",
    "gs = GridSearchCV(\n",
    "    estimator=rf, param_grid=param_grid, scoring='roc_auc', cv=3, n_jobs=-1\n",
    ")\n",
    "gs.fit(X_train, y_train)\n",
    "model = gs.best_estimator_"
   ]
  },
  {
   "cell_type": "markdown",
   "metadata": {},
   "source": [
    "Lets pick one observation from testing data and predict"
   ]
  },
  {
   "cell_type": "code",
   "execution_count": 17,
   "metadata": {},
   "outputs": [
    {
     "data": {
      "text/html": [
       "<div>\n",
       "<style scoped>\n",
       "    .dataframe tbody tr th:only-of-type {\n",
       "        vertical-align: middle;\n",
       "    }\n",
       "\n",
       "    .dataframe tbody tr th {\n",
       "        vertical-align: top;\n",
       "    }\n",
       "\n",
       "    .dataframe thead th {\n",
       "        text-align: right;\n",
       "    }\n",
       "</style>\n",
       "<table border=\"1\" class=\"dataframe\">\n",
       "  <thead>\n",
       "    <tr style=\"text-align: right;\">\n",
       "      <th></th>\n",
       "      <th>Age</th>\n",
       "      <th>Fare</th>\n",
       "      <th>Siblings/Spouses Aboard</th>\n",
       "      <th>Parents/Children Aboard</th>\n",
       "      <th>Pclass</th>\n",
       "      <th>Sex</th>\n",
       "    </tr>\n",
       "  </thead>\n",
       "  <tbody>\n",
       "    <tr>\n",
       "      <th>723</th>\n",
       "      <td>28.0</td>\n",
       "      <td>7.7375</td>\n",
       "      <td>0</td>\n",
       "      <td>0</td>\n",
       "      <td>3</td>\n",
       "      <td>female</td>\n",
       "    </tr>\n",
       "  </tbody>\n",
       "</table>\n",
       "</div>"
      ],
      "text/plain": [
       "      Age    Fare  Siblings/Spouses Aboard  Parents/Children Aboard  Pclass  \\\n",
       "723  28.0  7.7375                        0                        0       3   \n",
       "\n",
       "        Sex  \n",
       "723  female  "
      ]
     },
     "execution_count": 17,
     "metadata": {},
     "output_type": "execute_result"
    }
   ],
   "source": [
    "observation = X_test[8:9]\n",
    "observation"
   ]
  },
  {
   "cell_type": "code",
   "execution_count": 18,
   "metadata": {},
   "outputs": [
    {
     "data": {
      "text/plain": [
       "array([[0.40544339, 0.59455661]])"
      ]
     },
     "execution_count": 18,
     "metadata": {},
     "output_type": "execute_result"
    }
   ],
   "source": [
    "model.predict_proba(X_test[8:9])"
   ]
  },
  {
   "cell_type": "code",
   "execution_count": 19,
   "metadata": {
    "scrolled": true
   },
   "outputs": [
    {
     "name": "stdout",
     "output_type": "stream",
     "text": [
      "+----+-------------------------+-----------------+----------------+--------------------+\n",
      "|    | Feature Name            | Feature Value   |   Contribution |   Contribution STD |\n",
      "|    |                         |                 |       Survived |           Survived |\n",
      "|----+-------------------------+-----------------+----------------+--------------------|\n",
      "|  0 | Age                     | 28.0            |    -0.00935416 |         0.00639688 |\n",
      "|  1 | Fare                    | 7.7375          |     0.119392   |         0.0764297  |\n",
      "|  2 | Siblings/Spouses Aboard | 0               |     0.0249213  |         0.00809806 |\n",
      "|  3 | Parents/Children Aboard | 0               |     0.00949439 |         0.00308719 |\n",
      "|  4 | Pclass                  | 3               |    -0.12178    |         0.0526799  |\n",
      "|  5 | Sex                     | female          |     0.18517    |         0.0711646  |\n",
      "+----+-------------------------+-----------------+----------------+--------------------+\n"
     ]
    }
   ],
   "source": [
    "class_map = ['Deceased', 'Survived']\n",
    "classes = [class_map[i] for i in model.classes_]\n",
    "explainer = UClassificationExplainer(model.predict_proba)\n",
    "explainer.fit(X_train, columns, classes=classes)\n",
    "\n",
    "exp = explainer.explain(observation)\n",
    "exp.print('Survived')"
   ]
  },
  {
   "cell_type": "code",
   "execution_count": 20,
   "metadata": {
    "scrolled": true
   },
   "outputs": [
    {
     "data": {
      "text/html": [
       "<div>\n",
       "<style scoped>\n",
       "    .dataframe tbody tr th:only-of-type {\n",
       "        vertical-align: middle;\n",
       "    }\n",
       "\n",
       "    .dataframe tbody tr th {\n",
       "        vertical-align: top;\n",
       "    }\n",
       "\n",
       "    .dataframe thead th {\n",
       "        text-align: right;\n",
       "    }\n",
       "</style>\n",
       "<table border=\"1\" class=\"dataframe\">\n",
       "  <thead>\n",
       "    <tr style=\"text-align: right;\">\n",
       "      <th></th>\n",
       "      <th>Feature Name</th>\n",
       "      <th>Feature Value</th>\n",
       "      <th>Contribution\\n Deceased</th>\n",
       "      <th>Contribution STD\\n Deceased</th>\n",
       "      <th>Contribution\\n Survived</th>\n",
       "      <th>Contribution STD\\n Survived</th>\n",
       "    </tr>\n",
       "  </thead>\n",
       "  <tbody>\n",
       "    <tr>\n",
       "      <th>0</th>\n",
       "      <td>Age</td>\n",
       "      <td>28</td>\n",
       "      <td>0.009354</td>\n",
       "      <td>0.006397</td>\n",
       "      <td>-0.009354</td>\n",
       "      <td>0.006397</td>\n",
       "    </tr>\n",
       "    <tr>\n",
       "      <th>1</th>\n",
       "      <td>Fare</td>\n",
       "      <td>7.7375</td>\n",
       "      <td>-0.119392</td>\n",
       "      <td>0.076430</td>\n",
       "      <td>0.119392</td>\n",
       "      <td>0.076430</td>\n",
       "    </tr>\n",
       "    <tr>\n",
       "      <th>2</th>\n",
       "      <td>Siblings/Spouses Aboard</td>\n",
       "      <td>0</td>\n",
       "      <td>-0.024921</td>\n",
       "      <td>0.008098</td>\n",
       "      <td>0.024921</td>\n",
       "      <td>0.008098</td>\n",
       "    </tr>\n",
       "    <tr>\n",
       "      <th>3</th>\n",
       "      <td>Parents/Children Aboard</td>\n",
       "      <td>0</td>\n",
       "      <td>-0.009494</td>\n",
       "      <td>0.003087</td>\n",
       "      <td>0.009494</td>\n",
       "      <td>0.003087</td>\n",
       "    </tr>\n",
       "    <tr>\n",
       "      <th>4</th>\n",
       "      <td>Pclass</td>\n",
       "      <td>3</td>\n",
       "      <td>0.121780</td>\n",
       "      <td>0.052680</td>\n",
       "      <td>-0.121780</td>\n",
       "      <td>0.052680</td>\n",
       "    </tr>\n",
       "    <tr>\n",
       "      <th>5</th>\n",
       "      <td>Sex</td>\n",
       "      <td>female</td>\n",
       "      <td>-0.185170</td>\n",
       "      <td>0.071165</td>\n",
       "      <td>0.185170</td>\n",
       "      <td>0.071165</td>\n",
       "    </tr>\n",
       "  </tbody>\n",
       "</table>\n",
       "</div>"
      ],
      "text/plain": [
       "              Feature Name Feature Value  Contribution\\n Deceased  \\\n",
       "0                      Age            28                 0.009354   \n",
       "1                     Fare        7.7375                -0.119392   \n",
       "2  Siblings/Spouses Aboard             0                -0.024921   \n",
       "3  Parents/Children Aboard             0                -0.009494   \n",
       "4                   Pclass             3                 0.121780   \n",
       "5                      Sex        female                -0.185170   \n",
       "\n",
       "   Contribution STD\\n Deceased  Contribution\\n Survived  \\\n",
       "0                     0.006397                -0.009354   \n",
       "1                     0.076430                 0.119392   \n",
       "2                     0.008098                 0.024921   \n",
       "3                     0.003087                 0.009494   \n",
       "4                     0.052680                -0.121780   \n",
       "5                     0.071165                 0.185170   \n",
       "\n",
       "   Contribution STD\\n Survived  \n",
       "0                     0.006397  \n",
       "1                     0.076430  \n",
       "2                     0.008098  \n",
       "3                     0.003087  \n",
       "4                     0.052680  \n",
       "5                     0.071165  "
      ]
     },
     "execution_count": 20,
     "metadata": {},
     "output_type": "execute_result"
    }
   ],
   "source": [
    "exp.df\n"
   ]
  },
  {
   "cell_type": "code",
   "execution_count": 21,
   "metadata": {},
   "outputs": [
    {
     "data": {
      "image/png": "[encoded data removed]",
      "text/plain": [
       "<Figure size 720x720 with 1 Axes>"
      ]
     },
     "metadata": {},
     "output_type": "display_data"
    }
   ],
   "source": [
    "class_ = 'Survived'\n",
    "exp.plot(class_)"
   ]
  }
 ],
 "metadata": {
  "kernelspec": {
   "display_name": "Python 3",
   "language": "python",
   "name": "python3"
  },
  "language_info": {
   "codemirror_mode": {
    "name": "ipython",
    "version": 3
   },
   "file_extension": ".py",
   "mimetype": "text/x-python",
   "name": "python",
   "nbconvert_exporter": "python",
   "pygments_lexer": "ipython3",
   "version": "3.7.4"
  }
 },
 "nbformat": 4,
 "nbformat_minor": 2
}
