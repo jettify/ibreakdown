{
 "cells": [
  {
   "cell_type": "markdown",
   "metadata": {},
   "source": [
    "# Explaining RandomForestRegressor Trained on Bostong Housing Using URegressionExplainer.\n",
    "\n",
    "This is simple example of how to explain predictions for Boston housing"
   ]
  },
  {
   "cell_type": "markdown",
   "metadata": {},
   "source": [
    "## Fit  RandomForestRegressor"
   ]
  },
  {
   "cell_type": "code",
   "execution_count": 1,
   "metadata": {},
   "outputs": [],
   "source": [
    "from ibreakdown import URegressionExplainer\n",
    "import numpy as np\n",
    "import pandas as pd\n",
    "from sklearn.datasets import load_boston\n",
    "from sklearn.ensemble import RandomForestRegressor\n",
    "from sklearn.model_selection import GridSearchCV\n",
    "from sklearn.model_selection import train_test_split\n",
    "np.set_printoptions(suppress=True)"
   ]
  },
  {
   "cell_type": "code",
   "execution_count": 2,
   "metadata": {},
   "outputs": [],
   "source": [
    "def read_data(seed=None):\n",
    "    # read dataset and split it into training and test set\n",
    "    boston = load_boston()\n",
    "    columns = list(boston.feature_names)\n",
    "    X, y = boston['data'], boston['target']\n",
    "    df = pd.DataFrame(data=X, columns=columns)\n",
    "    X_train, X_test, y_train, y_test = train_test_split(\n",
    "        df, y, test_size=0.3, random_state=seed\n",
    "    )\n",
    "    return X_train, X_test, y_train, y_test, columns\n"
   ]
  },
  {
   "cell_type": "code",
   "execution_count": 3,
   "metadata": {},
   "outputs": [],
   "source": [
    "seed = 42  # fix seed for resprodusable results"
   ]
  },
  {
   "cell_type": "code",
   "execution_count": 4,
   "metadata": {},
   "outputs": [],
   "source": [
    "X_train, X_test, y_train, y_test, columns = read_data(seed=seed)"
   ]
  },
  {
   "cell_type": "code",
   "execution_count": 5,
   "metadata": {},
   "outputs": [],
   "source": [
    "rf = RandomForestRegressor(random_state=seed)\n",
    "param_grid = {\n",
    "    'n_estimators': [300, 200],\n",
    "    'max_depth': [3],\n",
    "    'oob_score': [True],\n",
    "}\n",
    "\n",
    "gs = GridSearchCV(\n",
    "    estimator=rf,\n",
    "    param_grid=param_grid,\n",
    "    scoring='neg_mean_squared_error',\n",
    "    cv=3,\n",
    "    n_jobs=-1,\n",
    ")\n",
    "model = gs.fit(X_train, y_train)"
   ]
  },
  {
   "cell_type": "markdown",
   "metadata": {},
   "source": [
    "## Lets Explain Prediction From X_test\n",
    "\n",
    "Fit `URegressionExplainer`"
   ]
  },
  {
   "cell_type": "code",
   "execution_count": 6,
   "metadata": {},
   "outputs": [],
   "source": [
    "explainer = URegressionExplainer(model.predict)\n",
    "explainer.fit(X_train, columns)"
   ]
  },
  {
   "cell_type": "markdown",
   "metadata": {},
   "source": [
    "Pick observation to explain from testing set."
   ]
  },
  {
   "cell_type": "code",
   "execution_count": 7,
   "metadata": {},
   "outputs": [
    {
     "data": {
      "text/html": [
       "<div>\n",
       "<style scoped>\n",
       "    .dataframe tbody tr th:only-of-type {\n",
       "        vertical-align: middle;\n",
       "    }\n",
       "\n",
       "    .dataframe tbody tr th {\n",
       "        vertical-align: top;\n",
       "    }\n",
       "\n",
       "    .dataframe thead th {\n",
       "        text-align: right;\n",
       "    }\n",
       "</style>\n",
       "<table border=\"1\" class=\"dataframe\">\n",
       "  <thead>\n",
       "    <tr style=\"text-align: right;\">\n",
       "      <th></th>\n",
       "      <th>CRIM</th>\n",
       "      <th>ZN</th>\n",
       "      <th>INDUS</th>\n",
       "      <th>CHAS</th>\n",
       "      <th>NOX</th>\n",
       "      <th>RM</th>\n",
       "      <th>AGE</th>\n",
       "      <th>DIS</th>\n",
       "      <th>RAD</th>\n",
       "      <th>TAX</th>\n",
       "      <th>PTRATIO</th>\n",
       "      <th>B</th>\n",
       "      <th>LSTAT</th>\n",
       "    </tr>\n",
       "  </thead>\n",
       "  <tbody>\n",
       "    <tr>\n",
       "      <th>5</th>\n",
       "      <td>0.02985</td>\n",
       "      <td>0.0</td>\n",
       "      <td>2.18</td>\n",
       "      <td>0.0</td>\n",
       "      <td>0.458</td>\n",
       "      <td>6.43</td>\n",
       "      <td>58.7</td>\n",
       "      <td>6.0622</td>\n",
       "      <td>3.0</td>\n",
       "      <td>222.0</td>\n",
       "      <td>18.7</td>\n",
       "      <td>394.12</td>\n",
       "      <td>5.21</td>\n",
       "    </tr>\n",
       "  </tbody>\n",
       "</table>\n",
       "</div>"
      ],
      "text/plain": [
       "      CRIM   ZN  INDUS  CHAS    NOX    RM   AGE     DIS  RAD    TAX  PTRATIO  \\\n",
       "5  0.02985  0.0   2.18   0.0  0.458  6.43  58.7  6.0622  3.0  222.0     18.7   \n",
       "\n",
       "        B  LSTAT  \n",
       "5  394.12   5.21  "
      ]
     },
     "execution_count": 7,
     "metadata": {},
     "output_type": "execute_result"
    }
   ],
   "source": [
    "observation = X_train.iloc[0:1]\n",
    "observation"
   ]
  },
  {
   "cell_type": "code",
   "execution_count": 8,
   "metadata": {},
   "outputs": [],
   "source": [
    "prediciont = model.predict(observation)"
   ]
  },
  {
   "cell_type": "code",
   "execution_count": 9,
   "metadata": {},
   "outputs": [],
   "source": [
    "exp = explainer.explain(observation)"
   ]
  },
  {
   "cell_type": "markdown",
   "metadata": {},
   "source": [
    "### Check Shapley Invariant\n",
    "Sum of contributions and baseline (intercept) should be equal to predicted value:"
   ]
  },
  {
   "cell_type": "code",
   "execution_count": 10,
   "metadata": {},
   "outputs": [
    {
     "data": {
      "text/plain": [
       "'Predicted 24.847671115542724 Sum of contributions 24.84767111554272'"
      ]
     },
     "execution_count": 10,
     "metadata": {},
     "output_type": "execute_result"
    }
   ],
   "source": [
    "predicted_value = prediciont[0]\n",
    "sum_explanations =  np.sum(exp.contributions[0]) + exp.baseline\n",
    "f'Predicted {predicted_value} Sum of contributions {sum_explanations}'"
   ]
  },
  {
   "cell_type": "code",
   "execution_count": 11,
   "metadata": {},
   "outputs": [
    {
     "data": {
      "text/plain": [
       "True"
      ]
     },
     "execution_count": 11,
     "metadata": {},
     "output_type": "execute_result"
    }
   ],
   "source": [
    "np.allclose(predicted_value, sum_explanations) # values should be very close"
   ]
  },
  {
   "cell_type": "markdown",
   "metadata": {},
   "source": [
    "### Print and Plot Explanations"
   ]
  },
  {
   "cell_type": "code",
   "execution_count": 12,
   "metadata": {
    "scrolled": true
   },
   "outputs": [
    {
     "name": "stdout",
     "output_type": "stream",
     "text": [
      "+----+----------------+-----------------+----------------+--------------------+\n",
      "|    | Feature Name   |   Feature Value |   Contribution |   Contribution STD |\n",
      "|----+----------------+-----------------+----------------+--------------------|\n",
      "|  0 | CRIM           |         0.02985 |    -0.274687   |         0.287227   |\n",
      "|  1 | ZN             |         0       |    -0.00162524 |         0.00292686 |\n",
      "|  2 | INDUS          |         2.18    |    -0.0325121  |         0.0180257  |\n",
      "|  3 | CHAS           |         0       |    -0.0021584  |         0.00167209 |\n",
      "|  4 | NOX            |         0.458   |    -0.143453   |         0.104419   |\n",
      "|  5 | RM             |         6.43    |    -1.91527    |         0.0366325  |\n",
      "|  6 | AGE            |        58.7     |    -0.0299579  |         0.0185941  |\n",
      "|  7 | DIS            |         6.0622  |    -0.613139   |         0.317984   |\n",
      "|  8 | RAD            |         3       |    -0.045313   |         0.0279847  |\n",
      "|  9 | TAX            |       222       |    -0.014349   |         0.0304559  |\n",
      "| 10 | PTRATIO        |        18.7     |    -0.102189   |         0.0290413  |\n",
      "| 11 | B              |       394.12    |    -0.0203306  |         0.00957193 |\n",
      "| 12 | LSTAT          |         5.21    |     5.08281    |         0.566736   |\n",
      "+----+----------------+-----------------+----------------+--------------------+\n"
     ]
    }
   ],
   "source": [
    " exp.print()"
   ]
  },
  {
   "cell_type": "code",
   "execution_count": 13,
   "metadata": {},
   "outputs": [
    {
     "data": {
      "image/png": "[encoded data removed]",
      "text/plain": [
       "<Figure size 936x1080 with 1 Axes>"
      ]
     },
     "metadata": {},
     "output_type": "display_data"
    }
   ],
   "source": [
    "df = exp.plot()"
   ]
  }
 ],
 "metadata": {
  "kernelspec": {
   "display_name": "Python 3",
   "language": "python",
   "name": "python3"
  },
  "language_info": {
   "codemirror_mode": {
    "name": "ipython",
    "version": 3
   },
   "file_extension": ".py",
   "mimetype": "text/x-python",
   "name": "python",
   "nbconvert_exporter": "python",
   "pygments_lexer": "ipython3",
   "version": "3.7.4"
  }
 },
 "nbformat": 4,
 "nbformat_minor": 2
}
